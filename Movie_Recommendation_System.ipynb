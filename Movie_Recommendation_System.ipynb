{
  "cells": [
    {
      "cell_type": "markdown",
      "metadata": {
        "colab_type": "text",
        "id": "view-in-github"
      },
      "source": [
        "<a href=\"https://colab.research.google.com/github/Poonam-Majhi/CodeClause_Movie_Recommendation_System/blob/main/Movie_Recommendation_System.ipynb\" target=\"_parent\"><img src=\"https://colab.research.google.com/assets/colab-badge.svg\" alt=\"Open In Colab\"/></a>"
      ]
    },
    {
      "cell_type": "code",
      "execution_count": null,
      "id": "972ee2e4",
      "metadata": {
        "id": "972ee2e4"
      },
      "outputs": [],
      "source": [
        "import numpy as np\n",
        "import pandas as pd\n",
        "import matplotlib.pyplot as plt\n",
        "from sklearn.feature_extraction.text import TfidfVectorizer\n",
        "from sklearn.feature_extraction.text import CountVectorizer\n",
        "from sklearn.metrics.pairwise import linear_kernel\n",
        "from sklearn.metrics.pairwise import cosine_similarity"
      ]
    },
    {
      "cell_type": "code",
      "execution_count": null,
      "id": "57e89313",
      "metadata": {
        "colab": {
          "base_uri": "https://localhost:8080/"
        },
        "id": "57e89313",
        "outputId": "2a1d32d7-d401-492a-8df8-a765fc55da22"
      },
      "outputs": [],
      "source": [
        "credits_df = pd.read_csv('tmdb_credits.csv')\n",
        "movies_df = pd.read_csv('tmdb_movies.csv')"
      ]
    },
    {
      "cell_type": "code",
      "execution_count": null,
      "id": "a2613d6b",
      "metadata": {
        "colab": {
          "base_uri": "https://localhost:8080/",
          "height": 739
        },
        "id": "a2613d6b",
        "outputId": "3f442368-c91c-4500-cb04-4afd915ad6bf"
      },
      "outputs": [],
      "source": [
        "movies_df.head()"
      ]
    },
    {
      "cell_type": "code",
      "execution_count": null,
      "id": "J0S3e06RvMww",
      "metadata": {
        "id": "J0S3e06RvMww"
      },
      "outputs": [],
      "source": [
        "credits_df.drop(credits_df.columns[4:1261], axis=1, inplace=True)"
      ]
    },
    {
      "cell_type": "code",
      "execution_count": null,
      "id": "aBMcLhxqxBCk",
      "metadata": {
        "colab": {
          "base_uri": "https://localhost:8080/",
          "height": 206
        },
        "id": "aBMcLhxqxBCk",
        "outputId": "d88907d9-fcce-4d60-ff33-8a3336155f21"
      },
      "outputs": [],
      "source": [
        "credits_df.head()"
      ]
    },
    {
      "cell_type": "code",
      "execution_count": null,
      "id": "c5d62c11",
      "metadata": {
        "id": "c5d62c11"
      },
      "outputs": [],
      "source": [
        "credits_df.columns = ['movie_id','title','cast','crew']\n",
        "movies_df = movies_df.merge(credits_df, on=\"movie_id\")"
      ]
    },
    {
      "cell_type": "code",
      "execution_count": null,
      "id": "fa04d96d",
      "metadata": {
        "colab": {
          "base_uri": "https://localhost:8080/",
          "height": 751
        },
        "id": "fa04d96d",
        "outputId": "3a09278a-6f80-4ad1-97e1-a43bb721c02f"
      },
      "outputs": [],
      "source": [
        "movies_df.head()"
      ]
    },
    {
      "cell_type": "code",
      "execution_count": null,
      "id": "02f0fcf9",
      "metadata": {
        "colab": {
          "base_uri": "https://localhost:8080/"
        },
        "id": "02f0fcf9",
        "outputId": "5193b633-cd21-46e3-df28-3b9d4b8003c9"
      },
      "outputs": [],
      "source": [
        "\n",
        "C = movies_df[\"vote_average\"].mean()\n",
        "m = movies_df[\"vote_count\"].quantile(0.9)\n",
        "\n",
        "print(\"C: \", C)\n",
        "print(\"m: \", m)\n",
        "\n",
        "new_movies_df = movies_df.copy().loc[movies_df[\"vote_count\"] >= m]\n",
        "print(new_movies_df.shape)"
      ]
    },
    {
      "cell_type": "code",
      "execution_count": null,
      "id": "072d885a",
      "metadata": {
        "id": "072d885a"
      },
      "outputs": [],
      "source": [
        "def weighted_rating(x, C=C, m=m):\n",
        "    v = x[\"vote_count\"]\n",
        "    R = x[\"vote_average\"]\n",
        "\n",
        "    return (v/(v + m) * R) + (m/(v + m) * C)"
      ]
    },
    {
      "cell_type": "code",
      "execution_count": null,
      "id": "cb2c7d9d",
      "metadata": {
        "colab": {
          "base_uri": "https://localhost:8080/",
          "height": 363
        },
        "id": "cb2c7d9d",
        "outputId": "0cc487b5-e5c7-45dd-a54c-39275671d4d2"
      },
      "outputs": [],
      "source": [
        "new_movies_df[\"score\"] = new_movies_df.apply(weighted_rating, axis=1)\n",
        "new_movies_df = new_movies_df.sort_values('score', ascending=False)\n",
        "\n",
        "new_movies_df[[\"title_x\", \"vote_count\", \"vote_average\", \"score\"]].head(10)"
      ]
    },
    {
      "cell_type": "code",
      "execution_count": null,
      "id": "20ca0c46",
      "metadata": {
        "colab": {
          "base_uri": "https://localhost:8080/",
          "height": 404
        },
        "id": "20ca0c46",
        "outputId": "f6eb63d9-a94f-47ef-a4de-46127b4f506c"
      },
      "outputs": [],
      "source": [
        "\n",
        "def plot():\n",
        "    popularity = movies_df.sort_values(\"popularity\", ascending=False)\n",
        "    plt.figure(figsize=(12, 6))\n",
        "    plt.barh(popularity[\"title_x\"].head(10), popularity[\"popularity\"].head(10), align=\"center\", color=\"skyblue\")\n",
        "    plt.gca().invert_yaxis()\n",
        "    plt.title(\"Top 10 movies\")\n",
        "    plt.xlabel(\"Popularity\")\n",
        "    plt.show()\n",
        "    \n",
        "\n",
        "plot()"
      ]
    },
    {
      "cell_type": "code",
      "execution_count": null,
      "id": "24ddc5ae",
      "metadata": {
        "colab": {
          "base_uri": "https://localhost:8080/"
        },
        "id": "24ddc5ae",
        "outputId": "c6717af0-0863-45f5-e611-68ba666da61f"
      },
      "outputs": [],
      "source": [
        "\n",
        "print(movies_df[\"overview\"].head(5))"
      ]
    },
    {
      "cell_type": "code",
      "execution_count": null,
      "id": "429aa994",
      "metadata": {
        "colab": {
          "base_uri": "https://localhost:8080/"
        },
        "id": "429aa994",
        "outputId": "86e9713a-f53b-44d6-d523-5db673524615"
      },
      "outputs": [],
      "source": [
        "tfidf = TfidfVectorizer(stop_words=\"english\")\n",
        "movies_df[\"overview\"] = movies_df[\"overview\"].fillna(\"\")\n",
        "\n",
        "tfidf_matrix = tfidf.fit_transform(movies_df[\"overview\"])\n",
        "print(tfidf_matrix.shape)"
      ]
    },
    {
      "cell_type": "code",
      "execution_count": null,
      "id": "e14e0a03",
      "metadata": {
        "colab": {
          "base_uri": "https://localhost:8080/"
        },
        "id": "e14e0a03",
        "outputId": "185738f3-6b0e-4760-e393-ccc2d89bbf02"
      },
      "outputs": [],
      "source": [
        "\n",
        "cosine_sim = linear_kernel(tfidf_matrix, tfidf_matrix)\n",
        "print(cosine_sim.shape)\n",
        "\n",
        "indices = pd.Series(movies_df.index, index=movies_df[\"title_x\"]).drop_duplicates()\n",
        "print(indices.head())"
      ]
    },
    {
      "cell_type": "code",
      "execution_count": null,
      "id": "39cdad1c",
      "metadata": {
        "id": "39cdad1c"
      },
      "outputs": [],
      "source": [
        "def get_recommendations(title_x, cosine_sim=cosine_sim):\n",
        "\n",
        "    idx = indices[title_x]\n",
        "    sim_scores = list(enumerate(cosine_sim[idx]))\n",
        "    sim_scores = sorted(sim_scores, key=lambda x: x[1], reverse=True)\n",
        "    sim_scores = sim_scores[1:11]\n",
        "    \n",
        "\n",
        "    movies_indices = [ind[0] for ind in sim_scores]\n",
        "    movies = movies_df[\"title_x\"].iloc[movies_indices]\n",
        "    return movies"
      ]
    },
    {
      "cell_type": "code",
      "execution_count": null,
      "id": "6aaeaee0",
      "metadata": {
        "colab": {
          "base_uri": "https://localhost:8080/"
        },
        "id": "6aaeaee0",
        "outputId": "0c7f786d-f299-4810-dfc1-0e68b62514d9"
      },
      "outputs": [],
      "source": [
        "print(\"################ Content Based Filtering - plot#############\")\n",
        "print()\n",
        "print(\"Recommendations for Star Wars\")\n",
        "print(get_recommendations(\"Star Wars\"))\n",
        "print()\n",
        "print(\"Recommendations for The Godfather\")\n",
        "print(get_recommendations(\"The Godfather\"))"
      ]
    },
    {
      "cell_type": "code",
      "execution_count": null,
      "id": "317074a0",
      "metadata": {
        "colab": {
          "base_uri": "https://localhost:8080/",
          "height": 580
        },
        "id": "317074a0",
        "outputId": "b91c1e55-2d45-44b0-c8d1-9c51484155ca"
      },
      "outputs": [],
      "source": [
        "features = [\"cast\", \"crew\", \"keywords\", \"genres\"]\n",
        "\n",
        "for feature in features:\n",
        "    movies_df[feature] = movies_df[feature]\n",
        "\n",
        "movies_df[features].head(10)"
      ]
    },
    {
      "cell_type": "code",
      "execution_count": null,
      "id": "6948b882",
      "metadata": {
        "id": "6948b882"
      },
      "outputs": [],
      "source": [
        "def get_director(x):\n",
        "    for i in x:\n",
        "        if i[\"job\"] == \"Director\":\n",
        "            return i[\"name\"]\n",
        "    return np.nan"
      ]
    },
    {
      "cell_type": "code",
      "execution_count": null,
      "id": "2506084e",
      "metadata": {
        "id": "2506084e"
      },
      "outputs": [],
      "source": [
        "def get_list(x):\n",
        "    if isinstance(x, list):\n",
        "        names = [i[\"name\"] for i in x]\n",
        "\n",
        "        if len(names) > 3:\n",
        "            names = names[:3]\n",
        "\n",
        "        return names\n",
        "\n",
        "    return []"
      ]
    },
    {
      "cell_type": "code",
      "execution_count": null,
      "id": "883c4684",
      "metadata": {
        "id": "883c4684"
      },
      "outputs": [],
      "source": [
        "movies_df[\"director\"] = movies_df[\"crew\"]\n",
        "\n",
        "features = [\"cast\", \"keywords\", \"genres\"]\n",
        "for feature in features:\n",
        "    movies_df[feature] = movies_df[feature]"
      ]
    },
    {
      "cell_type": "code",
      "execution_count": null,
      "id": "47d9dc03",
      "metadata": {
        "colab": {
          "base_uri": "https://localhost:8080/",
          "height": 337
        },
        "id": "47d9dc03",
        "outputId": "7a964c1e-5b17-4928-ac7f-f24362f00eea"
      },
      "outputs": [],
      "source": [
        "movies_df[['title_x', 'cast', 'director', 'keywords', 'genres']].head()"
      ]
    },
    {
      "cell_type": "code",
      "execution_count": null,
      "id": "58641b54",
      "metadata": {
        "id": "58641b54"
      },
      "outputs": [],
      "source": [
        "def clean_data(x):\n",
        "    if isinstance(x, list):\n",
        "        return [str.lower(i.replace(\" \", \"\")) for i in x]\n",
        "    else:\n",
        "        if isinstance(x, str):\n",
        "            return str.lower(x.replace(\" \", \"\"))\n",
        "        else:\n",
        "            return \"\""
      ]
    },
    {
      "cell_type": "code",
      "execution_count": null,
      "id": "b53336ce",
      "metadata": {
        "id": "b53336ce"
      },
      "outputs": [],
      "source": [
        "features = ['cast', 'keywords', 'director', 'genres']\n",
        "for feature in features:\n",
        "    movies_df[feature] = movies_df[feature].apply(clean_data)"
      ]
    },
    {
      "cell_type": "code",
      "execution_count": null,
      "id": "85aa3133",
      "metadata": {
        "colab": {
          "base_uri": "https://localhost:8080/"
        },
        "id": "85aa3133",
        "outputId": "c0ae66a2-1da9-4ea9-c9a8-6752bb718241"
      },
      "outputs": [],
      "source": [
        "def create_soup(x):\n",
        "    return ' '.join(x['keywords']) + ' ' + ' '.join(x['cast']) + ' ' + x['director'] + ' ' + ' '.join(x['genres'])\n",
        "\n",
        "\n",
        "movies_df[\"soup\"] = movies_df.apply(create_soup, axis=1)\n",
        "print(movies_df[\"soup\"].head())"
      ]
    },
    {
      "cell_type": "code",
      "execution_count": null,
      "id": "e6c59e7f",
      "metadata": {
        "colab": {
          "base_uri": "https://localhost:8080/"
        },
        "id": "e6c59e7f",
        "outputId": "36254c34-68c9-43f7-f75d-d7a5fc623f74"
      },
      "outputs": [],
      "source": [
        "count_vectorizer = CountVectorizer(stop_words=\"english\")\n",
        "count_matrix = count_vectorizer.fit_transform(movies_df[\"soup\"])\n",
        "\n",
        "print(count_matrix.shape)\n",
        "\n",
        "cosine_sim2 = cosine_similarity(count_matrix, count_matrix)\n",
        "print(cosine_sim2.shape)\n",
        "\n",
        "movies_df = movies_df.reset_index()\n",
        "indices = pd.Series(movies_df.index, index=movies_df['title_x'])"
      ]
    },
    {
      "cell_type": "code",
      "execution_count": null,
      "id": "66b89abb",
      "metadata": {
        "colab": {
          "base_uri": "https://localhost:8080/"
        },
        "id": "66b89abb",
        "outputId": "2dd9ce5b-e1e8-474e-fe73-13611574d75a"
      },
      "outputs": [],
      "source": [
        "print(\"################ Content Based System - metadata #############\")\n",
        "print(\"Recommendations for Star Wars\")\n",
        "print(get_recommendations(\"Star Wars\", cosine_sim2))\n",
        "print()\n",
        "print(\"Recommendations for The Godfather\")\n",
        "print(get_recommendations(\"The Godfather\", cosine_sim2))"
      ]
    },
    {
      "cell_type": "code",
      "execution_count": null,
      "id": "6c89cd31",
      "metadata": {
        "id": "6c89cd31"
      },
      "outputs": [],
      "source": []
    }
  ],
  "metadata": {
    "colab": {
      "include_colab_link": true,
      "provenance": []
    },
    "kernelspec": {
      "display_name": "Python 3",
      "language": "python",
      "name": "python3"
    },
    "language_info": {
      "codemirror_mode": {
        "name": "ipython",
        "version": 3
      },
      "file_extension": ".py",
      "mimetype": "text/x-python",
      "name": "python",
      "nbconvert_exporter": "python",
      "pygments_lexer": "ipython3",
      "version": "3.9.13"
    }
  },
  "nbformat": 4,
  "nbformat_minor": 5
}
